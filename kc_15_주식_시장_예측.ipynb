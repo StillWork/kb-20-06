{
  "nbformat": 4,
  "nbformat_minor": 0,
  "metadata": {
    "colab": {
      "name": "kc_14_주식 시장 예측.ipynb",
      "provenance": [],
      "collapsed_sections": []
    },
    "kernelspec": {
      "name": "python3",
      "display_name": "Python 3"
    }
  },
  "cells": [
    {
      "cell_type": "markdown",
      "metadata": {
        "id": "Cyk8kBZPJBmJ",
        "colab_type": "text"
      },
      "source": [
        "# QuandI을 사용하여 주식정보 가져오기\n",
        "- www.quandl.com 접속\n",
        "- 우측 상단 회원가입\n",
        "- API KEY 가져오기\n"
      ]
    },
    {
      "cell_type": "code",
      "metadata": {
        "id": "88A-xSjyI6UN",
        "colab_type": "code",
        "outputId": "0b9b0514-b0f7-4cbd-c8b0-0be5aa8da61b",
        "colab": {
          "base_uri": "https://localhost:8080/",
          "height": 343
        }
      },
      "source": [
        "!pip install Quandl"
      ],
      "execution_count": 0,
      "outputs": [
        {
          "output_type": "stream",
          "text": [
            "Collecting Quandl\n",
            "  Downloading https://files.pythonhosted.org/packages/07/ab/8cd479fba8a9b197a43a0d55dd534b066fb8e5a0a04b5c0384cbc5d663aa/Quandl-3.5.0-py2.py3-none-any.whl\n",
            "Collecting inflection>=0.3.1\n",
            "  Downloading https://files.pythonhosted.org/packages/d2/cd/f04c661d1b5ba6b7d77008e8fedd28a27a683eeeffcd93c6b2dbe54ea983/inflection-0.5.0-py2.py3-none-any.whl\n",
            "Requirement already satisfied: six in /usr/local/lib/python3.6/dist-packages (from Quandl) (1.12.0)\n",
            "Requirement already satisfied: numpy>=1.8 in /usr/local/lib/python3.6/dist-packages (from Quandl) (1.18.4)\n",
            "Requirement already satisfied: pandas>=0.14 in /usr/local/lib/python3.6/dist-packages (from Quandl) (1.0.4)\n",
            "Requirement already satisfied: requests>=2.7.0 in /usr/local/lib/python3.6/dist-packages (from Quandl) (2.23.0)\n",
            "Requirement already satisfied: more-itertools in /usr/local/lib/python3.6/dist-packages (from Quandl) (8.3.0)\n",
            "Requirement already satisfied: python-dateutil in /usr/local/lib/python3.6/dist-packages (from Quandl) (2.8.1)\n",
            "Requirement already satisfied: pytz>=2017.2 in /usr/local/lib/python3.6/dist-packages (from pandas>=0.14->Quandl) (2018.9)\n",
            "Requirement already satisfied: certifi>=2017.4.17 in /usr/local/lib/python3.6/dist-packages (from requests>=2.7.0->Quandl) (2020.4.5.1)\n",
            "Requirement already satisfied: idna<3,>=2.5 in /usr/local/lib/python3.6/dist-packages (from requests>=2.7.0->Quandl) (2.9)\n",
            "Requirement already satisfied: urllib3!=1.25.0,!=1.25.1,<1.26,>=1.21.1 in /usr/local/lib/python3.6/dist-packages (from requests>=2.7.0->Quandl) (1.24.3)\n",
            "Requirement already satisfied: chardet<4,>=3.0.2 in /usr/local/lib/python3.6/dist-packages (from requests>=2.7.0->Quandl) (3.0.4)\n",
            "Installing collected packages: inflection, Quandl\n",
            "Successfully installed Quandl-3.5.0 inflection-0.5.0\n"
          ],
          "name": "stdout"
        }
      ]
    },
    {
      "cell_type": "code",
      "metadata": {
        "id": "jEmtVr2RI-Z_",
        "colab_type": "code",
        "outputId": "8bebd798-ffb1-448a-8087-e204d8a5c2cc",
        "colab": {
          "base_uri": "https://localhost:8080/",
          "height": 91
        }
      },
      "source": [
        "import pandas as pd\n",
        "import matplotlib.pyplot as plt\n",
        "import quandl\n",
        "from sklearn.linear_model import LinearRegression\n",
        "from sklearn.ensemble import RandomForestRegressor\n",
        "import seaborn as sns\n",
        "from sklearn.model_selection import train_test_split\n",
        "from keras.layers import Dense\n",
        "from keras import Sequential\n",
        "from keras.layers import Dense, Dropout, Flatten, Reshape, GRU, LSTM\n",
        "from keras.layers import Conv1D, Conv2D, MaxPooling1D, MaxPooling2D, GlobalAveragePooling1D\n",
        "import keras\n",
        "from sklearn.metrics import r2_score\n",
        "import warnings\n",
        "import datetime as dt\n",
        "import numpy as np"
      ],
      "execution_count": 0,
      "outputs": [
        {
          "output_type": "stream",
          "text": [
            "/usr/local/lib/python3.6/dist-packages/statsmodels/tools/_testing.py:19: FutureWarning: pandas.util.testing is deprecated. Use the functions in the public API at pandas.testing instead.\n",
            "  import pandas.util.testing as tm\n",
            "Using TensorFlow backend.\n"
          ],
          "name": "stderr"
        }
      ]
    },
    {
      "cell_type": "code",
      "metadata": {
        "id": "6fIef0gsJKT8",
        "colab_type": "code",
        "outputId": "941490f6-4b7c-424b-c21b-ad5c0a042115",
        "colab": {
          "base_uri": "https://localhost:8080/",
          "height": 287
        }
      },
      "source": [
        "quandl.ApiConfig.api_key = 'zaLVE_uusbgCLsN2MkNS'\n",
        "stock_data = quandl.get('NSE/TCS', start_date='2010-01-01', end_date='2019-12-31')\n",
        "print(stock_data)"
      ],
      "execution_count": 0,
      "outputs": [
        {
          "output_type": "stream",
          "text": [
            "               Open     High  ...  Total Trade Quantity  Turnover (Lacs)\n",
            "Date                          ...                                       \n",
            "2010-01-04   754.80   758.90  ...              981841.0          7396.56\n",
            "2010-01-05   755.00   759.55  ...             1007244.0          7569.69\n",
            "2010-01-06   751.85   752.20  ...             1674588.0         12364.24\n",
            "2010-01-07   735.50   739.40  ...             3237446.0         23232.75\n",
            "2010-01-08   716.00   718.50  ...             3024089.0         21310.08\n",
            "...             ...      ...  ...                   ...              ...\n",
            "2018-12-31  1908.00  1909.00  ...             1879740.0         35647.72\n",
            "2019-01-01  1896.00  1910.00  ...             1094883.0         20800.34\n",
            "2019-01-02  1905.00  1934.45  ...             2100463.0         40389.86\n",
            "2019-01-03  1919.00  1944.95  ...             2611668.0         50061.78\n",
            "2019-01-04  1900.00  1901.20  ...             4280862.0         80017.42\n",
            "\n",
            "[2237 rows x 7 columns]\n"
          ],
          "name": "stdout"
        }
      ]
    },
    {
      "cell_type": "code",
      "metadata": {
        "id": "skCTtMy0JkNl",
        "colab_type": "code",
        "colab": {}
      },
      "source": [
        "dataset = pd.DataFrame(stock_data)"
      ],
      "execution_count": 0,
      "outputs": []
    },
    {
      "cell_type": "code",
      "metadata": {
        "id": "_FxPIjLNJ3vN",
        "colab_type": "code",
        "colab": {}
      },
      "source": [
        "dataset.to_csv('TCS.csv')"
      ],
      "execution_count": 0,
      "outputs": []
    },
    {
      "cell_type": "code",
      "metadata": {
        "id": "_hDiokMcJ57F",
        "colab_type": "code",
        "colab": {}
      },
      "source": [
        "data = pd.read_csv('TCS.csv')"
      ],
      "execution_count": 0,
      "outputs": []
    },
    {
      "cell_type": "code",
      "metadata": {
        "id": "XDY_EtRgJ8aV",
        "colab_type": "code",
        "outputId": "83d10c03-398e-4f86-8b49-bee399f6b6f2",
        "colab": {
          "base_uri": "https://localhost:8080/",
          "height": 202
        }
      },
      "source": [
        "data.head()"
      ],
      "execution_count": 0,
      "outputs": [
        {
          "output_type": "execute_result",
          "data": {
            "text/html": [
              "<div>\n",
              "<style scoped>\n",
              "    .dataframe tbody tr th:only-of-type {\n",
              "        vertical-align: middle;\n",
              "    }\n",
              "\n",
              "    .dataframe tbody tr th {\n",
              "        vertical-align: top;\n",
              "    }\n",
              "\n",
              "    .dataframe thead th {\n",
              "        text-align: right;\n",
              "    }\n",
              "</style>\n",
              "<table border=\"1\" class=\"dataframe\">\n",
              "  <thead>\n",
              "    <tr style=\"text-align: right;\">\n",
              "      <th></th>\n",
              "      <th>Date</th>\n",
              "      <th>Open</th>\n",
              "      <th>High</th>\n",
              "      <th>Low</th>\n",
              "      <th>Last</th>\n",
              "      <th>Close</th>\n",
              "      <th>Total Trade Quantity</th>\n",
              "      <th>Turnover (Lacs)</th>\n",
              "    </tr>\n",
              "  </thead>\n",
              "  <tbody>\n",
              "    <tr>\n",
              "      <th>0</th>\n",
              "      <td>2010-01-04</td>\n",
              "      <td>754.80</td>\n",
              "      <td>758.90</td>\n",
              "      <td>749.05</td>\n",
              "      <td>752.25</td>\n",
              "      <td>751.65</td>\n",
              "      <td>981841.0</td>\n",
              "      <td>7396.56</td>\n",
              "    </tr>\n",
              "    <tr>\n",
              "      <th>1</th>\n",
              "      <td>2010-01-05</td>\n",
              "      <td>755.00</td>\n",
              "      <td>759.55</td>\n",
              "      <td>746.55</td>\n",
              "      <td>748.70</td>\n",
              "      <td>751.85</td>\n",
              "      <td>1007244.0</td>\n",
              "      <td>7569.69</td>\n",
              "    </tr>\n",
              "    <tr>\n",
              "      <th>2</th>\n",
              "      <td>2010-01-06</td>\n",
              "      <td>751.85</td>\n",
              "      <td>752.20</td>\n",
              "      <td>733.00</td>\n",
              "      <td>737.00</td>\n",
              "      <td>734.85</td>\n",
              "      <td>1674588.0</td>\n",
              "      <td>12364.24</td>\n",
              "    </tr>\n",
              "    <tr>\n",
              "      <th>3</th>\n",
              "      <td>2010-01-07</td>\n",
              "      <td>735.50</td>\n",
              "      <td>739.40</td>\n",
              "      <td>711.00</td>\n",
              "      <td>711.85</td>\n",
              "      <td>714.40</td>\n",
              "      <td>3237446.0</td>\n",
              "      <td>23232.75</td>\n",
              "    </tr>\n",
              "    <tr>\n",
              "      <th>4</th>\n",
              "      <td>2010-01-08</td>\n",
              "      <td>716.00</td>\n",
              "      <td>718.50</td>\n",
              "      <td>696.50</td>\n",
              "      <td>696.50</td>\n",
              "      <td>699.80</td>\n",
              "      <td>3024089.0</td>\n",
              "      <td>21310.08</td>\n",
              "    </tr>\n",
              "  </tbody>\n",
              "</table>\n",
              "</div>"
            ],
            "text/plain": [
              "         Date    Open    High  ...   Close  Total Trade Quantity  Turnover (Lacs)\n",
              "0  2010-01-04  754.80  758.90  ...  751.65              981841.0          7396.56\n",
              "1  2010-01-05  755.00  759.55  ...  751.85             1007244.0          7569.69\n",
              "2  2010-01-06  751.85  752.20  ...  734.85             1674588.0         12364.24\n",
              "3  2010-01-07  735.50  739.40  ...  714.40             3237446.0         23232.75\n",
              "4  2010-01-08  716.00  718.50  ...  699.80             3024089.0         21310.08\n",
              "\n",
              "[5 rows x 8 columns]"
            ]
          },
          "metadata": {
            "tags": []
          },
          "execution_count": 7
        }
      ]
    },
    {
      "cell_type": "markdown",
      "metadata": {
        "id": "63zrYq61KAGd",
        "colab_type": "text"
      },
      "source": [
        "## Null Value Check"
      ]
    },
    {
      "cell_type": "code",
      "metadata": {
        "id": "OkU3aXeaJ9xd",
        "colab_type": "code",
        "outputId": "a3373577-2e14-4c23-d39e-5c127c22d715",
        "colab": {
          "base_uri": "https://localhost:8080/",
          "height": 179
        }
      },
      "source": [
        "data.isnull().sum()"
      ],
      "execution_count": 0,
      "outputs": [
        {
          "output_type": "execute_result",
          "data": {
            "text/plain": [
              "Date                    0\n",
              "Open                    0\n",
              "High                    0\n",
              "Low                     0\n",
              "Last                    0\n",
              "Close                   0\n",
              "Total Trade Quantity    0\n",
              "Turnover (Lacs)         0\n",
              "dtype: int64"
            ]
          },
          "metadata": {
            "tags": []
          },
          "execution_count": 8
        }
      ]
    },
    {
      "cell_type": "markdown",
      "metadata": {
        "id": "TJzitn6rKQog",
        "colab_type": "text"
      },
      "source": [
        "## Data Split\n",
        "- 데이터를 종속 변수와 독립 변수로 나눔.\n",
        "- 상한가, 하한가, 종가 등의 변화를 파악하여 시가를 예측하는 모델이므로 시가에 해당하는 변수를 분리.\n",
        "- Date 날짜 데이터 분해(연, 월, 일)"
      ]
    },
    {
      "cell_type": "code",
      "metadata": {
        "id": "ER5L0NxYUyio",
        "colab_type": "code",
        "colab": {}
      },
      "source": [
        "dt_array = []\n",
        "for i in data['Date'] :\n",
        "  dt_array.append(dt.datetime.strptime(i, '%Y-%m-%d'))"
      ],
      "execution_count": 0,
      "outputs": []
    },
    {
      "cell_type": "code",
      "metadata": {
        "id": "epgvcFOSU2Hk",
        "colab_type": "code",
        "colab": {}
      },
      "source": [
        "y_array = []\n",
        "m_array = []\n",
        "d_array = []\n",
        "\n",
        "for i in dt_array :\n",
        "  y_array.append(i.year)\n",
        "  m_array.append(i.month)\n",
        "  d_array.append(i.day)\n",
        "\n",
        "data['d-year'] = y_array\n",
        "data['d-month'] = m_array\n",
        "data['d-day'] = d_array"
      ],
      "execution_count": 0,
      "outputs": []
    },
    {
      "cell_type": "code",
      "metadata": {
        "id": "ReB3U6aEU_z8",
        "colab_type": "code",
        "outputId": "a212ebd9-659d-4395-c67d-336d36406d19",
        "colab": {
          "base_uri": "https://localhost:8080/",
          "height": 306
        }
      },
      "source": [
        "data.head()"
      ],
      "execution_count": 0,
      "outputs": [
        {
          "output_type": "execute_result",
          "data": {
            "text/html": [
              "<div>\n",
              "<style scoped>\n",
              "    .dataframe tbody tr th:only-of-type {\n",
              "        vertical-align: middle;\n",
              "    }\n",
              "\n",
              "    .dataframe tbody tr th {\n",
              "        vertical-align: top;\n",
              "    }\n",
              "\n",
              "    .dataframe thead th {\n",
              "        text-align: right;\n",
              "    }\n",
              "</style>\n",
              "<table border=\"1\" class=\"dataframe\">\n",
              "  <thead>\n",
              "    <tr style=\"text-align: right;\">\n",
              "      <th></th>\n",
              "      <th>Date</th>\n",
              "      <th>Open</th>\n",
              "      <th>High</th>\n",
              "      <th>Low</th>\n",
              "      <th>Last</th>\n",
              "      <th>Close</th>\n",
              "      <th>Total Trade Quantity</th>\n",
              "      <th>Turnover (Lacs)</th>\n",
              "      <th>d-year</th>\n",
              "      <th>d-month</th>\n",
              "      <th>d-day</th>\n",
              "    </tr>\n",
              "  </thead>\n",
              "  <tbody>\n",
              "    <tr>\n",
              "      <th>0</th>\n",
              "      <td>2010-01-04</td>\n",
              "      <td>754.80</td>\n",
              "      <td>758.90</td>\n",
              "      <td>749.05</td>\n",
              "      <td>752.25</td>\n",
              "      <td>751.65</td>\n",
              "      <td>981841.0</td>\n",
              "      <td>7396.56</td>\n",
              "      <td>2010</td>\n",
              "      <td>1</td>\n",
              "      <td>4</td>\n",
              "    </tr>\n",
              "    <tr>\n",
              "      <th>1</th>\n",
              "      <td>2010-01-05</td>\n",
              "      <td>755.00</td>\n",
              "      <td>759.55</td>\n",
              "      <td>746.55</td>\n",
              "      <td>748.70</td>\n",
              "      <td>751.85</td>\n",
              "      <td>1007244.0</td>\n",
              "      <td>7569.69</td>\n",
              "      <td>2010</td>\n",
              "      <td>1</td>\n",
              "      <td>5</td>\n",
              "    </tr>\n",
              "    <tr>\n",
              "      <th>2</th>\n",
              "      <td>2010-01-06</td>\n",
              "      <td>751.85</td>\n",
              "      <td>752.20</td>\n",
              "      <td>733.00</td>\n",
              "      <td>737.00</td>\n",
              "      <td>734.85</td>\n",
              "      <td>1674588.0</td>\n",
              "      <td>12364.24</td>\n",
              "      <td>2010</td>\n",
              "      <td>1</td>\n",
              "      <td>6</td>\n",
              "    </tr>\n",
              "    <tr>\n",
              "      <th>3</th>\n",
              "      <td>2010-01-07</td>\n",
              "      <td>735.50</td>\n",
              "      <td>739.40</td>\n",
              "      <td>711.00</td>\n",
              "      <td>711.85</td>\n",
              "      <td>714.40</td>\n",
              "      <td>3237446.0</td>\n",
              "      <td>23232.75</td>\n",
              "      <td>2010</td>\n",
              "      <td>1</td>\n",
              "      <td>7</td>\n",
              "    </tr>\n",
              "    <tr>\n",
              "      <th>4</th>\n",
              "      <td>2010-01-08</td>\n",
              "      <td>716.00</td>\n",
              "      <td>718.50</td>\n",
              "      <td>696.50</td>\n",
              "      <td>696.50</td>\n",
              "      <td>699.80</td>\n",
              "      <td>3024089.0</td>\n",
              "      <td>21310.08</td>\n",
              "      <td>2010</td>\n",
              "      <td>1</td>\n",
              "      <td>8</td>\n",
              "    </tr>\n",
              "  </tbody>\n",
              "</table>\n",
              "</div>"
            ],
            "text/plain": [
              "         Date    Open    High     Low  ...  Turnover (Lacs)  d-year  d-month  d-day\n",
              "0  2010-01-04  754.80  758.90  749.05  ...          7396.56    2010        1      4\n",
              "1  2010-01-05  755.00  759.55  746.55  ...          7569.69    2010        1      5\n",
              "2  2010-01-06  751.85  752.20  733.00  ...         12364.24    2010        1      6\n",
              "3  2010-01-07  735.50  739.40  711.00  ...         23232.75    2010        1      7\n",
              "4  2010-01-08  716.00  718.50  696.50  ...         21310.08    2010        1      8\n",
              "\n",
              "[5 rows x 11 columns]"
            ]
          },
          "metadata": {
            "tags": []
          },
          "execution_count": 11
        }
      ]
    },
    {
      "cell_type": "code",
      "metadata": {
        "id": "Pj2IKWXUVKZz",
        "colab_type": "code",
        "outputId": "9be86596-e485-461d-a807-22e893f89d9a",
        "colab": {
          "base_uri": "https://localhost:8080/",
          "height": 297
        }
      },
      "source": [
        "sns.barplot(data=data, x=\"d-year\", y=\"Open\")"
      ],
      "execution_count": 0,
      "outputs": [
        {
          "output_type": "execute_result",
          "data": {
            "text/plain": [
              "<matplotlib.axes._subplots.AxesSubplot at 0x7f01a0093320>"
            ]
          },
          "metadata": {
            "tags": []
          },
          "execution_count": 12
        },
        {
          "output_type": "display_data",
          "data": {
            "image/png": "[encoded data removed]",
            "text/plain": [
              "<Figure size 432x288 with 1 Axes>"
            ]
          },
          "metadata": {
            "tags": [],
            "needs_background": "light"
          }
        }
      ]
    },
    {
      "cell_type": "code",
      "metadata": {
        "id": "eKHsCMOAVNPU",
        "colab_type": "code",
        "outputId": "f6469426-0a67-4a92-a99c-ec552050c014",
        "colab": {
          "base_uri": "https://localhost:8080/",
          "height": 297
        }
      },
      "source": [
        "sns.barplot(data=data, x=\"d-month\", y=\"Open\")"
      ],
      "execution_count": 0,
      "outputs": [
        {
          "output_type": "execute_result",
          "data": {
            "text/plain": [
              "<matplotlib.axes._subplots.AxesSubplot at 0x7f019f98dcf8>"
            ]
          },
          "metadata": {
            "tags": []
          },
          "execution_count": 15
        },
        {
          "output_type": "display_data",
          "data": {
            "image/png": "[encoded data removed]",
            "text/plain": [
              "<Figure size 432x288 with 1 Axes>"
            ]
          },
          "metadata": {
            "tags": [],
            "needs_background": "light"
          }
        }
      ]
    },
    {
      "cell_type": "code",
      "metadata": {
        "id": "lEzXZq44VB_5",
        "colab_type": "code",
        "outputId": "7d1fee47-4b90-4d51-a315-eadca1317368",
        "colab": {
          "base_uri": "https://localhost:8080/",
          "height": 297
        }
      },
      "source": [
        "sns.barplot(data=data, x=\"d-day\", y=\"Open\")"
      ],
      "execution_count": 0,
      "outputs": [
        {
          "output_type": "execute_result",
          "data": {
            "text/plain": [
              "<matplotlib.axes._subplots.AxesSubplot at 0x7f019f93bd30>"
            ]
          },
          "metadata": {
            "tags": []
          },
          "execution_count": 16
        },
        {
          "output_type": "display_data",
          "data": {
            "image/png": "[encoded data removed]",
            "text/plain": [
              "<Figure size 432x288 with 1 Axes>"
            ]
          },
          "metadata": {
            "tags": [],
            "needs_background": "light"
          }
        }
      ]
    },
    {
      "cell_type": "code",
      "metadata": {
        "id": "ePCo9xhTKJT1",
        "colab_type": "code",
        "colab": {}
      },
      "source": [
        "x = data.loc[:,'High':]\n",
        "y = data.loc[:,'Open']"
      ],
      "execution_count": 0,
      "outputs": []
    },
    {
      "cell_type": "code",
      "metadata": {
        "id": "CRpwK3FLK-u2",
        "colab_type": "code",
        "outputId": "98bce7a1-791d-44a9-c8d7-01ec6e4306ed",
        "colab": {
          "base_uri": "https://localhost:8080/",
          "height": 219
        }
      },
      "source": [
        "x.head()"
      ],
      "execution_count": 0,
      "outputs": [
        {
          "output_type": "execute_result",
          "data": {
            "text/html": [
              "<div>\n",
              "<style scoped>\n",
              "    .dataframe tbody tr th:only-of-type {\n",
              "        vertical-align: middle;\n",
              "    }\n",
              "\n",
              "    .dataframe tbody tr th {\n",
              "        vertical-align: top;\n",
              "    }\n",
              "\n",
              "    .dataframe thead th {\n",
              "        text-align: right;\n",
              "    }\n",
              "</style>\n",
              "<table border=\"1\" class=\"dataframe\">\n",
              "  <thead>\n",
              "    <tr style=\"text-align: right;\">\n",
              "      <th></th>\n",
              "      <th>High</th>\n",
              "      <th>Low</th>\n",
              "      <th>Last</th>\n",
              "      <th>Close</th>\n",
              "      <th>Total Trade Quantity</th>\n",
              "      <th>Turnover (Lacs)</th>\n",
              "      <th>d-year</th>\n",
              "      <th>d-month</th>\n",
              "      <th>d-day</th>\n",
              "    </tr>\n",
              "  </thead>\n",
              "  <tbody>\n",
              "    <tr>\n",
              "      <th>0</th>\n",
              "      <td>758.90</td>\n",
              "      <td>749.05</td>\n",
              "      <td>752.25</td>\n",
              "      <td>751.65</td>\n",
              "      <td>981841.0</td>\n",
              "      <td>7396.56</td>\n",
              "      <td>2010</td>\n",
              "      <td>1</td>\n",
              "      <td>4</td>\n",
              "    </tr>\n",
              "    <tr>\n",
              "      <th>1</th>\n",
              "      <td>759.55</td>\n",
              "      <td>746.55</td>\n",
              "      <td>748.70</td>\n",
              "      <td>751.85</td>\n",
              "      <td>1007244.0</td>\n",
              "      <td>7569.69</td>\n",
              "      <td>2010</td>\n",
              "      <td>1</td>\n",
              "      <td>5</td>\n",
              "    </tr>\n",
              "    <tr>\n",
              "      <th>2</th>\n",
              "      <td>752.20</td>\n",
              "      <td>733.00</td>\n",
              "      <td>737.00</td>\n",
              "      <td>734.85</td>\n",
              "      <td>1674588.0</td>\n",
              "      <td>12364.24</td>\n",
              "      <td>2010</td>\n",
              "      <td>1</td>\n",
              "      <td>6</td>\n",
              "    </tr>\n",
              "    <tr>\n",
              "      <th>3</th>\n",
              "      <td>739.40</td>\n",
              "      <td>711.00</td>\n",
              "      <td>711.85</td>\n",
              "      <td>714.40</td>\n",
              "      <td>3237446.0</td>\n",
              "      <td>23232.75</td>\n",
              "      <td>2010</td>\n",
              "      <td>1</td>\n",
              "      <td>7</td>\n",
              "    </tr>\n",
              "    <tr>\n",
              "      <th>4</th>\n",
              "      <td>718.50</td>\n",
              "      <td>696.50</td>\n",
              "      <td>696.50</td>\n",
              "      <td>699.80</td>\n",
              "      <td>3024089.0</td>\n",
              "      <td>21310.08</td>\n",
              "      <td>2010</td>\n",
              "      <td>1</td>\n",
              "      <td>8</td>\n",
              "    </tr>\n",
              "  </tbody>\n",
              "</table>\n",
              "</div>"
            ],
            "text/plain": [
              "     High     Low    Last   Close  ...  Turnover (Lacs)  d-year  d-month  d-day\n",
              "0  758.90  749.05  752.25  751.65  ...          7396.56    2010        1      4\n",
              "1  759.55  746.55  748.70  751.85  ...          7569.69    2010        1      5\n",
              "2  752.20  733.00  737.00  734.85  ...         12364.24    2010        1      6\n",
              "3  739.40  711.00  711.85  714.40  ...         23232.75    2010        1      7\n",
              "4  718.50  696.50  696.50  699.80  ...         21310.08    2010        1      8\n",
              "\n",
              "[5 rows x 9 columns]"
            ]
          },
          "metadata": {
            "tags": []
          },
          "execution_count": 18
        }
      ]
    },
    {
      "cell_type": "code",
      "metadata": {
        "id": "E_K9hZg1K_11",
        "colab_type": "code",
        "outputId": "1114826f-fc7d-41ec-cbed-f8becf427d2e",
        "colab": {
          "base_uri": "https://localhost:8080/",
          "height": 125
        }
      },
      "source": [
        "y.head()"
      ],
      "execution_count": 0,
      "outputs": [
        {
          "output_type": "execute_result",
          "data": {
            "text/plain": [
              "0    754.80\n",
              "1    755.00\n",
              "2    751.85\n",
              "3    735.50\n",
              "4    716.00\n",
              "Name: Open, dtype: float64"
            ]
          },
          "metadata": {
            "tags": []
          },
          "execution_count": 19
        }
      ]
    },
    {
      "cell_type": "code",
      "metadata": {
        "id": "rE9YFm7ULAod",
        "colab_type": "code",
        "colab": {}
      },
      "source": [
        "x_train,x_test,y_train,y_test = train_test_split(x,y,test_size = 0.1,random_state = 0)"
      ],
      "execution_count": 0,
      "outputs": []
    },
    {
      "cell_type": "markdown",
      "metadata": {
        "id": "GRDL8b3BV4Sp",
        "colab_type": "text"
      },
      "source": [
        "# 랜덤 포레스트"
      ]
    },
    {
      "cell_type": "code",
      "metadata": {
        "id": "FB0ALmu7V9tt",
        "colab_type": "code",
        "outputId": "0d6492f1-1f0f-4764-fec1-0909f28bbda8",
        "colab": {
          "base_uri": "https://localhost:8080/",
          "height": 35
        }
      },
      "source": [
        "model = RandomForestRegressor(n_estimators= 100)\n",
        "model.fit(x_train, y_train)\n",
        "model.score(x_test, y_test)"
      ],
      "execution_count": 0,
      "outputs": [
        {
          "output_type": "execute_result",
          "data": {
            "text/plain": [
              "0.9994083049168194"
            ]
          },
          "metadata": {
            "tags": []
          },
          "execution_count": 21
        }
      ]
    },
    {
      "cell_type": "markdown",
      "metadata": {
        "id": "JTyilJl7WNji",
        "colab_type": "text"
      },
      "source": [
        "## 주요 특성 변수"
      ]
    },
    {
      "cell_type": "code",
      "metadata": {
        "id": "K58wgUqsWQ-k",
        "colab_type": "code",
        "colab": {}
      },
      "source": [
        "def feature_importances_fig(features, importances):\n",
        "    df = pd.DataFrame({'feature':features,'importance':importances})\n",
        "    df = df.sort_values('importance', ascending=False)\n",
        "    ypos = np.arange(len(df.feature))\n",
        "\n",
        "    plt.figure(figsize=(6,4))\n",
        "    plt.barh(df.feature, df.importance)\n",
        "    plt.yticks(ypos, df.feature)\n",
        "    plt.xlabel('Importance')\n",
        "    plt.ylabel('Variable')\n",
        "    plt.xlim(0, 1)\n",
        "    plt.ylim(-1, len(df.feature))\n",
        "    plt.show()"
      ],
      "execution_count": 0,
      "outputs": []
    },
    {
      "cell_type": "code",
      "metadata": {
        "id": "-On79Q--WUsv",
        "colab_type": "code",
        "outputId": "21e92beb-efad-4d0b-c043-4d37b5de49c0",
        "colab": {
          "base_uri": "https://localhost:8080/",
          "height": 279
        }
      },
      "source": [
        "features = ['High',\t'Low',\t'Last',\t'Close',\t'Total Trade Quantity',\t'Turnover (Lacs)', 'd-year', 'd-month', 'd-day']\n",
        "feature_importances_fig(features, model.feature_importances_)"
      ],
      "execution_count": 0,
      "outputs": [
        {
          "output_type": "display_data",
          "data": {
            "image/png": "[encoded data removed]",
            "text/plain": [
              "<Figure size 432x288 with 1 Axes>"
            ]
          },
          "metadata": {
            "tags": [],
            "needs_background": "light"
          }
        }
      ]
    },
    {
      "cell_type": "markdown",
      "metadata": {
        "id": "yVUY5D8tLpC5",
        "colab_type": "text"
      },
      "source": [
        "## 성능"
      ]
    },
    {
      "cell_type": "code",
      "metadata": {
        "id": "hzeBXRoZXMp5",
        "colab_type": "code",
        "colab": {}
      },
      "source": [
        "def plot_y_pred(y_test, y_pred):\n",
        "    plt.figure(figsize=(8, 5))\n",
        "    plt.plot([i for i in range(len(y_test))], y_test, c='r')\n",
        "    plt.plot([i for i in range(len(y_pred))], y_pred, c='b')\n",
        "    plt.show()"
      ],
      "execution_count": 0,
      "outputs": []
    },
    {
      "cell_type": "code",
      "metadata": {
        "id": "qU6ktc8LXOw-",
        "colab_type": "code",
        "outputId": "0fa02f6a-1762-4afd-bc2a-f337f50c089b",
        "colab": {
          "base_uri": "https://localhost:8080/",
          "height": 320
        }
      },
      "source": [
        "y_pred = model.predict(x_test)\n",
        "plot_y_pred(y_test, y_pred)"
      ],
      "execution_count": 0,
      "outputs": [
        {
          "output_type": "display_data",
          "data": {
            "image/png": "[encoded data removed]",
            "text/plain": [
              "<Figure size 576x360 with 1 Axes>"
            ]
          },
          "metadata": {
            "tags": [],
            "needs_background": "light"
          }
        }
      ]
    },
    {
      "cell_type": "code",
      "metadata": {
        "id": "Ay8jlcb_Llkt",
        "colab_type": "code",
        "colab": {}
      },
      "source": [
        "def scatter_errors(y_test, y_pred):\n",
        "    error = abs(y_test - y_pred)\n",
        "    print(\"average=\", error.mean())\n",
        "    print(\"max=\", max(error))\n",
        "    plt.figure(figsize=(8, 5))\n",
        "    plt.scatter(y_test, error, s=2)"
      ],
      "execution_count": 0,
      "outputs": []
    },
    {
      "cell_type": "code",
      "metadata": {
        "id": "LxEFWlQHbu_r",
        "colab_type": "code",
        "outputId": "0531a5bd-921f-4139-9c61-3e76ff2ffa14",
        "colab": {
          "base_uri": "https://localhost:8080/",
          "height": 358
        }
      },
      "source": [
        "scatter_errors(y_test, y_pred)"
      ],
      "execution_count": 0,
      "outputs": [
        {
          "output_type": "stream",
          "text": [
            "average= 11.220399553571452\n",
            "max= 115.25749999999925\n"
          ],
          "name": "stdout"
        },
        {
          "output_type": "display_data",
          "data": {
            "image/png": "[encoded data removed]",
            "text/plain": [
              "<Figure size 576x360 with 1 Axes>"
            ]
          },
          "metadata": {
            "tags": [],
            "needs_background": "light"
          }
        }
      ]
    },
    {
      "cell_type": "markdown",
      "metadata": {
        "id": "SX2URrH5b5gc",
        "colab_type": "text"
      },
      "source": [
        "# 멀티 스텝 예측"
      ]
    },
    {
      "cell_type": "markdown",
      "metadata": {
        "id": "rNV--htbb8Rd",
        "colab_type": "text"
      },
      "source": [
        "## 멀티 스텝 예측에 사용할 X, y 구조 생성"
      ]
    },
    {
      "cell_type": "code",
      "metadata": {
        "id": "gbfqd8sTbvzu",
        "colab_type": "code",
        "colab": {}
      },
      "source": [
        "def split_sequence(sequence, n_steps_in, n_steps_out):\n",
        "  X, y = [],[]\n",
        "  for i in range(len(sequence)):\n",
        "    end_ix = i + n_steps_in\n",
        "    out_end_ix = end_ix + n_steps_out\n",
        "    # 마지막 값이 범위 내에 있는지 확인\n",
        "    if out_end_ix > len(sequence):\n",
        "        break\n",
        "    seq_x, seq_y = sequence[i:end_ix], sequence[out_end_ix-1]\n",
        "    X.append(seq_x)\n",
        "    y.append(seq_y)\n",
        "  return np.array(X), np.array(y)"
      ],
      "execution_count": 0,
      "outputs": []
    },
    {
      "cell_type": "code",
      "metadata": {
        "id": "2S3kXZmIcByt",
        "colab_type": "code",
        "colab": {}
      },
      "source": [
        "train = y[:1200].values\n",
        "test = y[1200:].values"
      ],
      "execution_count": 0,
      "outputs": []
    },
    {
      "cell_type": "code",
      "metadata": {
        "id": "jdiSdD0LcRuF",
        "colab_type": "code",
        "outputId": "4d8b4d72-8124-4af6-abe4-5fc3e87ff8c3",
        "colab": {
          "base_uri": "https://localhost:8080/",
          "height": 35
        }
      },
      "source": [
        "train.shape, test.shape"
      ],
      "execution_count": 0,
      "outputs": [
        {
          "output_type": "execute_result",
          "data": {
            "text/plain": [
              "((1200,), (1037,))"
            ]
          },
          "metadata": {
            "tags": []
          },
          "execution_count": 30
        }
      ]
    },
    {
      "cell_type": "code",
      "metadata": {
        "id": "IWj7vU-fcXvF",
        "colab_type": "code",
        "colab": {}
      },
      "source": [
        "train_x, train_y = split_sequence(train, 2, 3)"
      ],
      "execution_count": 0,
      "outputs": []
    },
    {
      "cell_type": "code",
      "metadata": {
        "id": "zHCYBX9RcZMt",
        "colab_type": "code",
        "outputId": "edfc42c3-64e0-477a-9997-9b9897f241b7",
        "colab": {
          "base_uri": "https://localhost:8080/",
          "height": 323
        }
      },
      "source": [
        "train_x[:15], train_y[:15]"
      ],
      "execution_count": 0,
      "outputs": [
        {
          "output_type": "execute_result",
          "data": {
            "text/plain": [
              "(array([[754.8 , 755.  ],\n",
              "        [755.  , 751.85],\n",
              "        [751.85, 735.5 ],\n",
              "        [735.5 , 716.  ],\n",
              "        [716.  , 704.  ],\n",
              "        [704.  , 732.  ],\n",
              "        [732.  , 745.  ],\n",
              "        [745.  , 798.45],\n",
              "        [798.45, 796.  ],\n",
              "        [796.  , 800.  ],\n",
              "        [800.  , 802.2 ],\n",
              "        [802.2 , 792.2 ],\n",
              "        [792.2 , 772.25],\n",
              "        [772.25, 761.  ],\n",
              "        [761.  , 757.5 ]]),\n",
              " array([716.  , 704.  , 732.  , 745.  , 798.45, 796.  , 800.  , 802.2 ,\n",
              "        792.2 , 772.25, 761.  , 757.5 , 750.  , 749.5 , 734.  ]))"
            ]
          },
          "metadata": {
            "tags": []
          },
          "execution_count": 32
        }
      ]
    },
    {
      "cell_type": "code",
      "metadata": {
        "id": "gy4AiTFacaKt",
        "colab_type": "code",
        "outputId": "72ab85d0-5231-47ab-b5e5-b6871059ef92",
        "colab": {
          "base_uri": "https://localhost:8080/",
          "height": 143
        }
      },
      "source": [
        "lr = LinearRegression()\n",
        "n_steps = 2\n",
        "for n_steps_out in range(2,2*8,2):\n",
        "  train_x, train_y = split_sequence(train, n_steps, n_steps_out)\n",
        "  test_x, test_y = split_sequence(test, n_steps, n_steps_out)\n",
        "  lr.fit(train_x, train_y) \n",
        "  print(n_steps_out, ',', lr.score(test_x, test_y).round(3))"
      ],
      "execution_count": 0,
      "outputs": [
        {
          "output_type": "stream",
          "text": [
            "2 , 0.911\n",
            "4 , 0.815\n",
            "6 , 0.725\n",
            "8 , 0.633\n",
            "10 , 0.543\n",
            "12 , 0.459\n",
            "14 , 0.375\n"
          ],
          "name": "stdout"
        }
      ]
    },
    {
      "cell_type": "code",
      "metadata": {
        "id": "VmlEAGhccb6t",
        "colab_type": "code",
        "outputId": "bd55bd77-415a-41d5-b408-11bef3905219",
        "colab": {
          "base_uri": "https://localhost:8080/",
          "height": 322
        }
      },
      "source": [
        "y_pred = lr.predict(test_x)\n",
        "plot_y_pred(test_y, y_pred)"
      ],
      "execution_count": 0,
      "outputs": [
        {
          "output_type": "display_data",
          "data": {
            "image/png": "[encoded data removed]",
            "text/plain": [
              "<Figure size 576x360 with 1 Axes>"
            ]
          },
          "metadata": {
            "tags": [],
            "needs_background": "light"
          }
        }
      ]
    },
    {
      "cell_type": "code",
      "metadata": {
        "id": "HiaGY99Qm9v3",
        "colab_type": "code",
        "outputId": "7b4f04a9-b975-452a-9abf-cccdc02a5fb6",
        "colab": {
          "base_uri": "https://localhost:8080/",
          "height": 356
        }
      },
      "source": [
        "scatter_errors(test_y, y_pred)"
      ],
      "execution_count": 0,
      "outputs": [
        {
          "output_type": "stream",
          "text": [
            "average= 124.98734914924566\n",
            "max= 1866.5610309431067\n"
          ],
          "name": "stdout"
        },
        {
          "output_type": "display_data",
          "data": {
            "image/png": "[encoded data removed]",
            "text/plain": [
              "<Figure size 576x360 with 1 Axes>"
            ]
          },
          "metadata": {
            "tags": [],
            "needs_background": "light"
          }
        }
      ]
    },
    {
      "cell_type": "code",
      "metadata": {
        "id": "VTIDyJs0m_mu",
        "colab_type": "code",
        "colab": {}
      },
      "source": [
        "n_steps = 2\n",
        "n_steps_out = 4\n",
        "train_x, train_y = split_sequence(train, n_steps, n_steps_out)\n",
        "test_x, test_y = split_sequence(test, n_steps, n_steps_out)"
      ],
      "execution_count": 0,
      "outputs": []
    },
    {
      "cell_type": "code",
      "metadata": {
        "id": "4d43Z57FqzlM",
        "colab_type": "code",
        "colab": {}
      },
      "source": [
        "model = Sequential()\n",
        "model.add(Dense(300, activation='relu', input_shape=(n_steps,))) \n",
        "model.add(Dense(300, activation='relu'))\n",
        "model.add(Dense(300, activation='relu'))\n",
        "model.add(Dense(1))"
      ],
      "execution_count": 0,
      "outputs": []
    },
    {
      "cell_type": "code",
      "metadata": {
        "id": "TNsxmQANq0lH",
        "colab_type": "code",
        "outputId": "902b565b-4faa-4d7c-919f-2a943b6b6ff0",
        "colab": {
          "base_uri": "https://localhost:8080/",
          "height": 379
        }
      },
      "source": [
        "model.compile(loss='mse',optimizer='adam')\n",
        "history = model.fit(train_x,train_y, batch_size=20, epochs=200, validation_split=0.2, verbose=1,\n",
        "callbacks=[keras.callbacks.EarlyStopping(monitor='val_loss', patience=6)])"
      ],
      "execution_count": 0,
      "outputs": [
        {
          "output_type": "stream",
          "text": [
            "Train on 956 samples, validate on 239 samples\n",
            "Epoch 1/200\n",
            "956/956 [==============================] - 1s 580us/step - loss: 95689.0290 - val_loss: 11781.3703\n",
            "Epoch 2/200\n",
            "956/956 [==============================] - 0s 290us/step - loss: 2106.4778 - val_loss: 5114.3073\n",
            "Epoch 3/200\n",
            "956/956 [==============================] - 0s 295us/step - loss: 1916.7818 - val_loss: 5032.3716\n",
            "Epoch 4/200\n",
            "956/956 [==============================] - 0s 279us/step - loss: 1956.0872 - val_loss: 7947.9260\n",
            "Epoch 5/200\n",
            "956/956 [==============================] - 0s 278us/step - loss: 2217.0863 - val_loss: 5747.7393\n",
            "Epoch 6/200\n",
            "956/956 [==============================] - 0s 296us/step - loss: 2037.1605 - val_loss: 5504.4714\n",
            "Epoch 7/200\n",
            "956/956 [==============================] - 0s 301us/step - loss: 2245.9383 - val_loss: 5349.1982\n",
            "Epoch 8/200\n",
            "956/956 [==============================] - 0s 275us/step - loss: 2187.4067 - val_loss: 5099.4303\n",
            "Epoch 9/200\n",
            "956/956 [==============================] - 0s 289us/step - loss: 2156.1672 - val_loss: 5119.2122\n"
          ],
          "name": "stdout"
        }
      ]
    },
    {
      "cell_type": "code",
      "metadata": {
        "id": "tHrtTfkuq-w3",
        "colab_type": "code",
        "outputId": "315da311-1874-4bdc-f705-8b9ad1aff72f",
        "colab": {
          "base_uri": "https://localhost:8080/",
          "height": 35
        }
      },
      "source": [
        "y_pred = model.predict(test_x)\n",
        "r2_score(test_y, y_pred)"
      ],
      "execution_count": 0,
      "outputs": [
        {
          "output_type": "execute_result",
          "data": {
            "text/plain": [
              "0.7991638918337896"
            ]
          },
          "metadata": {
            "tags": []
          },
          "execution_count": 39
        }
      ]
    },
    {
      "cell_type": "code",
      "metadata": {
        "id": "ajHadr7QrJ3_",
        "colab_type": "code",
        "outputId": "9ec9a03b-fd78-44e2-8090-3b73d3b6b723",
        "colab": {
          "base_uri": "https://localhost:8080/",
          "height": 320
        }
      },
      "source": [
        "plot_y_pred(test_y, y_pred)"
      ],
      "execution_count": 0,
      "outputs": [
        {
          "output_type": "display_data",
          "data": {
            "image/png": "[encoded data removed]",
            "text/plain": [
              "<Figure size 576x360 with 1 Axes>"
            ]
          },
          "metadata": {
            "tags": [],
            "needs_background": "light"
          }
        }
      ]
    },
    {
      "cell_type": "code",
      "metadata": {
        "id": "DewdJt3JrL8v",
        "colab_type": "code",
        "outputId": "b9ceb792-4705-43dc-8002-3400b1737bf6",
        "colab": {
          "base_uri": "https://localhost:8080/",
          "height": 356
        }
      },
      "source": [
        "scatter_errors(test_y, y_pred[:,0])"
      ],
      "execution_count": 0,
      "outputs": [
        {
          "output_type": "stream",
          "text": [
            "average= 64.49134696546452\n",
            "max= 1894.700927734375\n"
          ],
          "name": "stdout"
        },
        {
          "output_type": "display_data",
          "data": {
            "image/png": "[encoded data removed]",
            "text/plain": [
              "<Figure size 576x360 with 1 Axes>"
            ]
          },
          "metadata": {
            "tags": [],
            "needs_background": "light"
          }
        }
      ]
    },
    {
      "cell_type": "code",
      "metadata": {
        "id": "jJgtCh7bynlI",
        "colab_type": "code",
        "colab": {}
      },
      "source": [
        ""
      ],
      "execution_count": 0,
      "outputs": []
    }
  ]
}